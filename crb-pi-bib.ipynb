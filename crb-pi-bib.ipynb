{
 "cells": [
  {
   "cell_type": "code",
   "execution_count": 46,
   "id": "e555bef7",
   "metadata": {},
   "outputs": [],
   "source": [
    "import pandas as pd\n",
    "from jinja2 import Environment, FileSystemLoader\n",
    "from urllib.parse import quote"
   ]
  },
  {
   "cell_type": "code",
   "execution_count": 47,
   "id": "577f256b",
   "metadata": {},
   "outputs": [
    {
     "name": "stdout",
     "output_type": "stream",
     "text": [
      "Index(['Key', 'Item Type', 'Publication Year', 'Author', 'Title',\n",
      "       'Publication Title', 'ISBN', 'ISSN', 'DOI', 'Url', 'Abstract Note',\n",
      "       'Date', 'Date Added', 'Date Modified', 'Access Date', 'Pages',\n",
      "       'Num Pages', 'Issue', 'Volume', 'Number Of Volumes',\n",
      "       'Journal Abbreviation', 'Short Title', 'Series', 'Series Number',\n",
      "       'Series Text', 'Series Title', 'Publisher', 'Place', 'Language',\n",
      "       'Rights', 'Type', 'Archive', 'Archive Location', 'Library Catalog',\n",
      "       'Call Number', 'Extra', 'Notes', 'File Attachments', 'Link Attachments',\n",
      "       'Manual Tags', 'Automatic Tags', 'Editor', 'Series Editor',\n",
      "       'Translator', 'Contributor', 'Attorney Agent', 'Book Author',\n",
      "       'Cast Member', 'Commenter', 'Composer', 'Cosponsor', 'Counsel',\n",
      "       'Interviewer', 'Producer', 'Recipient', 'Reviewed Author',\n",
      "       'Scriptwriter', 'Words By', 'Guest', 'Number', 'Edition',\n",
      "       'Running Time', 'Scale', 'Medium', 'Artwork Size', 'Filing Date',\n",
      "       'Application Number', 'Assignee', 'Issuing Authority', 'Country',\n",
      "       'Meeting Name', 'Conference Name', 'Court', 'References', 'Reporter',\n",
      "       'Legal Status', 'Priority Numbers', 'Programming Language', 'Version',\n",
      "       'System', 'Code', 'Code Number', 'Section', 'Session', 'Committee',\n",
      "       'History', 'Legislative Body'],\n",
      "      dtype='object')\n"
     ]
    },
    {
     "data": {
      "text/plain": [
       "17                                                   NaN\n",
       "52     Due to the extensive stretches of date plantat...\n",
       "90                                                   NaN\n",
       "126    Anggraini E, Sinaga TM, Irsan C, Herlinda S, M...\n",
       "66                                                   NaN\n",
       "                             ...                        \n",
       "82     Examination of populations of the coconut pest...\n",
       "65                        The Nation's Leading Newspaper\n",
       "92                                                   NaN\n",
       "107    One dead coconut rhinoceros beetle was found o...\n",
       "111    DEPARTMENT OF AGRICULTURE ʻOIHANA MAHIʻAI   JO...\n",
       "Name: Abstract Note, Length: 132, dtype: object"
      ]
     },
     "execution_count": 47,
     "metadata": {},
     "output_type": "execute_result"
    }
   ],
   "source": [
    "# Read CSV\n",
    "\n",
    "df = pd.read_csv(\n",
    "    'test.csv',  \n",
    "    # usecols=['Item Type','Author','Publication Year','Title','File Attachments','Notes', 'Abstract Note', 'Extra'],\n",
    "    nrows=1000)\n",
    "\n",
    "print(df.columns)\n",
    "\n",
    "# Reorder columns\n",
    "\n",
    "df = df[['Item Type','Author','Publication Year','Title','Url','File Attachments','Notes', 'Abstract Note', 'Extra']]\n",
    "\n",
    "# Sort by author and year\n",
    "\n",
    "df.sort_values(by=['Author','Publication Year'], inplace=True)\n",
    "df['Abstract Note']"
   ]
  },
  {
   "cell_type": "code",
   "execution_count": null,
   "id": "b99b5246",
   "metadata": {},
   "outputs": [],
   "source": [
    "# create new column which contains a formatted reference\n",
    "\n",
    "def format_ref(row):\n",
    "\n",
    "    if pd.isna(row)['Author']:\n",
    "        author = 'Unknown'\n",
    "    else:\n",
    "        author = row['Author']\n",
    "\n",
    "    if pd.isna(row['Publication Year']):\n",
    "        year = 0\n",
    "    else:\n",
    "        year = row['Publication Year']\n",
    "\n",
    "    title = row['Title']\n",
    "\n",
    "    if pd.isna(row['Url']):\n",
    "        url = '' \n",
    "    else:\n",
    "        url = row['Url']\n",
    "\n",
    "    return f'{author} {int(year)}<br><b>{title}</b><br><a href=\"{url}\">{url}</a>'\n",
    "\n",
    "df['ref'] = df.apply(format_ref, axis=1)"
   ]
  },
  {
   "cell_type": "code",
   "execution_count": 49,
   "id": "3b052e43",
   "metadata": {},
   "outputs": [],
   "source": [
    "# create abstract_exists column\n",
    "\n",
    "def abstract_exists(row):\n",
    "    return pd.notna(row['Abstract Note'])\n",
    "df['abstract_exists'] = df.apply(abstract_exists, axis=1)\n",
    "\n",
    "# create notes_exist column\n",
    "\n",
    "def notes_exist(row):\n",
    "    return pd.notna(row['Notes'])\n",
    "\n",
    "df['notes_exist'] = df.apply(notes_exist, axis=1)\n",
    "\n",
    "# create attachments_exist column\n",
    "\n",
    "def attachments_exist(row):\n",
    "    return pd.notna(row['File Attachments'])\n",
    "\n",
    "df['attachments_exist'] = df.apply(attachments_exist, axis=1)\n",
    "\n",
    "# create a new column for formatted attachment urls\n",
    "\n",
    "def format_attachment_urls(row):\n",
    "    if row['attachments_exist']:\n",
    "    \n",
    "        s = row['File Attachments']\n",
    "        urls = s.split(';')\n",
    "\n",
    "        hrefs = ''\n",
    "        for url in urls:\n",
    "            s = url.strip() # remove whitespace from ends of string\n",
    "            s = quote(s)    # convert space characters to %20\n",
    "            s = f'<a href=\"{s}\">{s}</a><br>'\n",
    "            hrefs += s\n",
    "    \n",
    "        return hrefs\n",
    "    else:\n",
    "        return ''\n",
    "\n",
    "df['attachment_hrefs'] = df.apply(format_attachment_urls, axis=1)\n",
    "\n",
    "# display df\n",
    "\n",
    "# df[['abstract_exists','Abstract Note']]"
   ]
  },
  {
   "cell_type": "code",
   "execution_count": 50,
   "id": "149447fb",
   "metadata": {},
   "outputs": [
    {
     "name": "stdout",
     "output_type": "stream",
     "text": [
      "The bibliography is saved in crb-pi-bib.html.\n",
      "Finished\n"
     ]
    }
   ],
   "source": [
    "templateLoader = FileSystemLoader( searchpath=\"/\" )\n",
    "templateEnv = Environment( loader=templateLoader )\n",
    "TEMPLATE_FILE = \"/home/aubrey/Desktop/crb-pi-biblio/crb-pi-bib.template\"\n",
    "template = templateEnv.get_template( TEMPLATE_FILE )\n",
    "templateVars = {'df': df}\n",
    "outputText = template.render( templateVars )\n",
    "\n",
    "with open('crb-pi-bib.html', 'w') as f:\n",
    "    f.write(outputText)\n",
    "print('The bibliography is saved in crb-pi-bib.html.')\n",
    "print('Finished')"
   ]
  }
 ],
 "metadata": {
  "kernelspec": {
   "display_name": "crb-pi-biblio",
   "language": "python",
   "name": "python3"
  },
  "language_info": {
   "codemirror_mode": {
    "name": "ipython",
    "version": 3
   },
   "file_extension": ".py",
   "mimetype": "text/x-python",
   "name": "python",
   "nbconvert_exporter": "python",
   "pygments_lexer": "ipython3",
   "version": "3.10.12"
  }
 },
 "nbformat": 4,
 "nbformat_minor": 5
}
