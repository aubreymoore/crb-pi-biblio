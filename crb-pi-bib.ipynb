{
 "cells": [
  {
   "cell_type": "code",
   "execution_count": 71,
   "id": "e555bef7",
   "metadata": {},
   "outputs": [],
   "source": [
    "import pandas as pd\n",
    "from jinja2 import Environment, FileSystemLoader\n",
    "from urllib.parse import quote\n",
    "import datetime\n",
    "import pytz"
   ]
  },
  {
   "cell_type": "code",
   "execution_count": 72,
   "id": "6345e140",
   "metadata": {},
   "outputs": [],
   "source": [
    "TITLE = 'Bibiolography of Coconut Rhinoceros Beetle in the Philippines'\n",
    "CSV_PATH = 'crb-pi-bib.csv'\n",
    "TEMPLATE_PATH = 'crb-pi-bib-template.html'\n",
    "CSS_PATH = 'crb-pi-bib.css'\n",
    "HTML_PATH = 'index.html'"
   ]
  },
  {
   "cell_type": "code",
   "execution_count": 73,
   "id": "577f256b",
   "metadata": {},
   "outputs": [],
   "source": [
    "# Read CSV\n",
    "\n",
    "df = pd.read_csv(CSV_PATH)\n",
    "\n",
    "# Reorder columns\n",
    "\n",
    "df = df[['Key','Item Type','Author','Publication Year','Title','Url','File Attachments','Notes', 'Abstract Note', 'Extra']]\n",
    "\n",
    "# Sort by author and year\n",
    "\n",
    "df.sort_values(by=['Author','Publication Year'], inplace=True)\n",
    "\n",
    "# reset index\n",
    "\n",
    "df = df.reset_index(drop=True)"
   ]
  },
  {
   "cell_type": "code",
   "execution_count": 74,
   "id": "b99b5246",
   "metadata": {},
   "outputs": [],
   "source": [
    "# create new column which contains a formatted reference\n",
    "\n",
    "def format_ref(row):\n",
    "\n",
    "    if pd.isna(row)['Author']:\n",
    "        author = 'Unknown'\n",
    "    else:\n",
    "        author = row['Author']\n",
    "\n",
    "    if pd.isna(row['Publication Year']):\n",
    "        year = 0\n",
    "    else:\n",
    "        year = row['Publication Year']\n",
    "\n",
    "    title = row['Title']\n",
    "\n",
    "    if pd.isna(row['Url']):\n",
    "        url = '' \n",
    "    else:\n",
    "        url = row['Url']\n",
    "\n",
    "    return f'{author} {int(year)}<br><b>{title}</b><br><a href=\"{url}\">{url}</a>'\n",
    "\n",
    "df['ref'] = df.apply(format_ref, axis=1)"
   ]
  },
  {
   "cell_type": "code",
   "execution_count": 75,
   "id": "3b052e43",
   "metadata": {},
   "outputs": [],
   "source": [
    "# create abstract_exists column\n",
    "\n",
    "def abstract_exists(row):\n",
    "    return pd.notna(row['Abstract Note'])\n",
    "df['abstract_exists'] = df.apply(abstract_exists, axis=1)\n",
    "\n",
    "# create notes_exist column\n",
    "\n",
    "def notes_exist(row):\n",
    "    return pd.notna(row['Notes'])\n",
    "\n",
    "df['notes_exist'] = df.apply(notes_exist, axis=1)\n",
    "\n",
    "# create attachments_exist column\n",
    "\n",
    "def attachments_exist(row):\n",
    "    return pd.notna(row['File Attachments'])\n",
    "\n",
    "df['attachments_exist'] = df.apply(attachments_exist, axis=1)\n",
    "\n",
    "# create a new column for formatted attachment urls\n",
    "\n",
    "def format_attachment_urls(row):\n",
    "    if row['attachments_exist']:\n",
    "    \n",
    "        s = row['File Attachments']\n",
    "        urls = s.split(';')\n",
    "\n",
    "        hrefs = ''\n",
    "        for url in urls:\n",
    "            s = url.strip() # remove whitespace from ends of string\n",
    "            s = quote(s)    # convert space characters to %20\n",
    "            s = f'<a href=\"{s}\">{s}</a><br>'\n",
    "            hrefs += s\n",
    "    \n",
    "        return hrefs\n",
    "    else:\n",
    "        return ''\n",
    "\n",
    "df['attachment_hrefs'] = df.apply(format_attachment_urls, axis=1)\n",
    "\n",
    "# display df\n",
    "\n",
    "# df[['abstract_exists','Abstract Note']]"
   ]
  },
  {
   "cell_type": "code",
   "execution_count": 76,
   "id": "c4c03a4a",
   "metadata": {},
   "outputs": [],
   "source": [
    "def get_timestamp():\n",
    "    return datetime.datetime.now(pytz.timezone('Asia/Manila')).isoformat('T', 'minutes')\n",
    "\n",
    "# get_timestamp()"
   ]
  },
  {
   "cell_type": "code",
   "execution_count": 77,
   "id": "149447fb",
   "metadata": {},
   "outputs": [
    {
     "name": "stdout",
     "output_type": "stream",
     "text": [
      "The bibliography is saved in index.html.\n",
      "Finished\n"
     ]
    }
   ],
   "source": [
    "templateLoader = FileSystemLoader(searchpath=\".\")\n",
    "templateEnv = Environment(loader=templateLoader)\n",
    "template = templateEnv.get_template(TEMPLATE_PATH)\n",
    "header = f'{TITLE}<br>by Aubrey Moore | {get_timestamp()}'\n",
    "templateVars = {'df': df, 'header': header}\n",
    "outputText = template.render(templateVars)\n",
    "\n",
    "with open(HTML_PATH, 'w') as f:\n",
    "    f.write(outputText)\n",
    "print(f'The bibliography is saved in {HTML_PATH}.')\n",
    "print('Finished')"
   ]
  }
 ],
 "metadata": {
  "kernelspec": {
   "display_name": "crb-pi-biblio",
   "language": "python",
   "name": "python3"
  },
  "language_info": {
   "codemirror_mode": {
    "name": "ipython",
    "version": 3
   },
   "file_extension": ".py",
   "mimetype": "text/x-python",
   "name": "python",
   "nbconvert_exporter": "python",
   "pygments_lexer": "ipython3",
   "version": "3.10.12"
  }
 },
 "nbformat": 4,
 "nbformat_minor": 5
}
